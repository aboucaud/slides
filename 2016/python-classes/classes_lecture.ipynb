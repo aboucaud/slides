{
  "cells": [
    {
      "cell_type": "markdown",
      "source": [
        "# Python classes\n",
        "---\n",
        "Alexandre Boucaud <aboucaud@ias.u-psud.fr>"
      ],
      "metadata": {
        "slideshow": {
          "slide_type": "slide"
        }
      }
    },
    {
      "cell_type": "markdown",
      "source": [
        "## Overview\n",
        "\n",
        "* [Class definition](#Class-definition)\n",
        "* [Inheritance](#Inheritance)\n",
        "* [Class method](#Class-method)\n",
        "* [Static method](#Static-method)\n",
        "* [`__repr__` and `__str__`](#String-representation)\n",
        "* [`property`](#Property)\n",
        "* [Name mangling](#Name-mangling)\n",
        "* [Summary](#Summary:-New-style-Python-Classes) and [references](#Some-references)"
      ],
      "metadata": {
        "slideshow": {
          "slide_type": "slide"
        }
      }
    },
    {
      "cell_type": "markdown",
      "source": [
        "## Prerequisites for the course"
      ],
      "metadata": {
        "slideshow": {
          "slide_type": "slide"
        }
      }
    },
    {
      "cell_type": "markdown",
      "source": [
        "To make code compatible with both Python 2 and Python 3"
      ],
      "metadata": {
        "slideshow": {
          "slide_type": "-"
        }
      }
    },
    {
      "cell_type": "code",
      "source": [
        "from __future__ import print_function, division"
      ],
      "outputs": [],
      "execution_count": 1,
      "metadata": {
        "collapsed": true,
        "slideshow": {
          "slide_type": "-"
        }
      }
    },
    {
      "cell_type": "markdown",
      "source": [
        "# Class definition"
      ],
      "metadata": {
        "slideshow": {
          "slide_type": "slide"
        }
      }
    },
    {
      "cell_type": "markdown",
      "source": [
        "**Inherit from `object`** or other classes"
      ],
      "metadata": {
        "slideshow": {
          "slide_type": "subslide"
        }
      }
    },
    {
      "cell_type": "code",
      "source": [
        "class Array(object):\n",
        "    \"\"\"Array toolkit\"\"\""
      ],
      "outputs": [],
      "execution_count": 2,
      "metadata": {
        "collapsed": true,
        "slideshow": {
          "slide_type": "-"
        }
      }
    },
    {
      "cell_type": "markdown",
      "source": [
        "Has both **class** and **instance** variables."
      ],
      "metadata": {
        "slideshow": {
          "slide_type": "subslide"
        }
      }
    },
    {
      "cell_type": "code",
      "source": [
        "class Array(object):\n",
        "    \"\"\"Array toolkit\"\"\"\n",
        "    \n",
        "    version = '0.1b'                      # class variable\n",
        "    \n",
        "    def __init__(self, shape):\n",
        "        self.size_y, self.size_x = shape  # instance variables"
      ],
      "outputs": [],
      "execution_count": 3,
      "metadata": {
        "collapsed": false,
        "slideshow": {
          "slide_type": "-"
        }
      }
    },
    {
      "cell_type": "markdown",
      "source": [
        "`__init__` isn't a constructor. It's job is to initialize the instance variables. \n",
        "\n`__init__` takes an existing instance `self` and populates it with instance variables."
      ],
      "metadata": {
        "slideshow": {
          "slide_type": "-"
        }
      }
    },
    {
      "cell_type": "markdown",
      "source": [
        "**Define** its own functions"
      ],
      "metadata": {
        "slideshow": {
          "slide_type": "subslide"
        }
      }
    },
    {
      "cell_type": "code",
      "source": [
        "class Array(object):\n",
        "    \"\"\"Array toolkit\"\"\"\n",
        "    \n",
        "    version = '0.1' \n",
        "    \n",
        "    def __init__(self, shape):\n",
        "        self.size_y, self.size_x = shape \n",
        "        \n",
        "    def area(self):\n",
        "        \"\"\"Pixel area of the array\"\"\"\n",
        "        return self.size_x * self.size_y"
      ],
      "outputs": [],
      "execution_count": 4,
      "metadata": {
        "collapsed": false,
        "slideshow": {
          "slide_type": "-"
        }
      }
    },
    {
      "cell_type": "markdown",
      "source": [
        "Regular methods have `self` as first argument. \n",
        "\n`self` is a Python convention but any argument name can be used (e.g. `this`)."
      ],
      "metadata": {
        "slideshow": {
          "slide_type": "-"
        }
      }
    },
    {
      "cell_type": "markdown",
      "source": [
        "## Test of the class"
      ],
      "metadata": {
        "slideshow": {
          "slide_type": "subslide"
        }
      }
    },
    {
      "cell_type": "code",
      "source": [
        "print(\"Array version\", Array.version)"
      ],
      "outputs": [
        {
          "output_type": "stream",
          "name": "stdout",
          "text": [
            "Array version 0.1\n"
          ]
        }
      ],
      "execution_count": 5,
      "metadata": {
        "collapsed": false,
        "slideshow": {
          "slide_type": "-"
        }
      }
    },
    {
      "cell_type": "code",
      "source": [
        "A = Array((25, 25))\n",
        "print(\"An array of shape ({0}x{1}) \"\n",
        "      \"has an area of {2} sq.pixels\".format(A.size_y, A.size_x, A.area()))"
      ],
      "outputs": [
        {
          "output_type": "stream",
          "name": "stdout",
          "text": [
            "An array of shape (25x25) has an area of 625 sq.pixels\n"
          ]
        }
      ],
      "execution_count": 6,
      "metadata": {
        "collapsed": false,
        "slideshow": {
          "slide_type": "fragment"
        }
      }
    },
    {
      "cell_type": "markdown",
      "source": [
        "# Inheritance"
      ],
      "metadata": {
        "slideshow": {
          "slide_type": "slide"
        }
      }
    },
    {
      "cell_type": "markdown",
      "source": [
        "Let's add a new method to the `Array` class."
      ],
      "metadata": {
        "slideshow": {
          "slide_type": "subslide"
        }
      }
    },
    {
      "cell_type": "code",
      "source": [
        "class Array(object):\n",
        "    \"\"\"Array toolkit\"\"\"\n",
        "    \n",
        "    version = '0.2'\n",
        "    \n",
        "    def __init__(self, shape):\n",
        "        self.size_y, self.size_x = shape\n",
        "        \n",
        "    def area(self):\n",
        "        \"\"\"Pixel area of the array\"\"\"\n",
        "        return self.size_x * self.size_y\n",
        "    \n",
        "    def perimeter(self):\n",
        "        \"\"\"Circumference of the array\"\"\"\n",
        "        return 2 * (self.size_x + self.size_y)"
      ],
      "outputs": [],
      "execution_count": 7,
      "metadata": {
        "collapsed": true,
        "slideshow": {
          "slide_type": "fragment"
        }
      }
    },
    {
      "cell_type": "markdown",
      "source": [
        "Say we'd like to know the perimeter of the array with a 1 pixel white frame around.\n",
        "\nOne could try:"
      ],
      "metadata": {
        "slideshow": {
          "slide_type": "subslide"
        }
      }
    },
    {
      "cell_type": "code",
      "source": [
        "A = Array((25, 25))\n",
        "\n",
        "array_perimeter = A.perimeter()\n",
        "frame_perimeter = array_perimeter + 8\n",
        "\nprint(\"Frame perimeter : {} pixels\".format(frame_perimeter))"
      ],
      "outputs": [
        {
          "output_type": "stream",
          "name": "stdout",
          "text": [
            "Frame perimeter : 108 pixels\n"
          ]
        }
      ],
      "execution_count": 8,
      "metadata": {
        "collapsed": false,
        "slideshow": {
          "slide_type": "-"
        }
      }
    },
    {
      "cell_type": "markdown",
      "source": [
        "Or one could just inherit from `Array` to create a sub class `Frame` and redefine the method."
      ],
      "metadata": {
        "slideshow": {
          "slide_type": "subslide"
        }
      }
    },
    {
      "cell_type": "code",
      "source": [
        "class Frame(Array):\n",
        "    \"\"\"Frame object inherited from Array\"\"\"\n",
        "    \n",
        "    def perimeter(self):\n",
        "        \"\"\"Circumference of the frame\"\"\"\n",
        "        return Array.perimeter(self) + 8"
      ],
      "outputs": [],
      "execution_count": 9,
      "metadata": {
        "collapsed": true,
        "slideshow": {
          "slide_type": "-"
        }
      }
    },
    {
      "cell_type": "markdown",
      "source": [
        "Change functionality through **subclassing**.\n",
        "\n",
        "If the parent gets called in the subclass method then it is called **extending**.\n",
        "\nIf the parent does not get called in the subclass method then it is called **overriding**."
      ],
      "metadata": {
        "slideshow": {
          "slide_type": "fragment"
        }
      }
    },
    {
      "cell_type": "markdown",
      "source": [
        "## Test of the inherited class"
      ],
      "metadata": {
        "slideshow": {
          "slide_type": "subslide"
        }
      }
    },
    {
      "cell_type": "code",
      "source": [
        "print(\"Array version\", Array.version)"
      ],
      "outputs": [
        {
          "output_type": "stream",
          "name": "stdout",
          "text": [
            "Array version 0.2\n"
          ]
        }
      ],
      "execution_count": 10,
      "metadata": {
        "collapsed": false,
        "slideshow": {
          "slide_type": "-"
        }
      }
    },
    {
      "cell_type": "code",
      "source": [
        "A = Array((70, 50))\n",
        "print(\"The array of shape ({0}x{1}) \"\n",
        "      \"has a perimeter of {2} pixels\".format(A.size_y, A.size_x, A.perimeter()))"
      ],
      "outputs": [
        {
          "output_type": "stream",
          "name": "stdout",
          "text": [
            "The array of shape (70x50) has a perimeter of 240 pixels\n"
          ]
        }
      ],
      "execution_count": 11,
      "metadata": {
        "collapsed": false,
        "slideshow": {
          "slide_type": "fragment"
        }
      }
    },
    {
      "cell_type": "code",
      "source": [
        "F = Frame((70, 50))\n",
        "print(\"while the frame of shape ({0}x{1}) \"\n",
        "      \"has a perimeter of {2} pixels\".format(F.size_y, F.size_x, F.perimeter()))"
      ],
      "outputs": [
        {
          "output_type": "stream",
          "name": "stdout",
          "text": [
            "while the frame of shape (70x50) has a perimeter of 248 pixels\n"
          ]
        }
      ],
      "execution_count": 12,
      "metadata": {
        "collapsed": false,
        "slideshow": {
          "slide_type": "fragment"
        }
      }
    },
    {
      "cell_type": "markdown",
      "source": [
        "# Class method"
      ],
      "metadata": {
        "slideshow": {
          "slide_type": "slide"
        }
      }
    },
    {
      "cell_type": "markdown",
      "source": [
        "Depending on their needs, different users may want different constructor signatures.\n",
        "\n",
        "When the API is fixed, a **converter** function is thus always needed.\n",
        "\n",
        "---\n",
        "\n_Example:_ create an Array method from a FITS image"
      ],
      "metadata": {
        "slideshow": {
          "slide_type": "subslide"
        }
      }
    },
    {
      "cell_type": "code",
      "source": [
        "import astropy.io.fits as pyfits\n",
        "\n",
        "def fits2shape(filename):\n",
        "    img = pyfits.getdata(filename)\n",
        "    return img.shape\n",
        "\n",
        "fitsfile = 'data/array.fits'\n",
        "A = Array(fits2shape(fitsfile))"
      ],
      "outputs": [],
      "execution_count": 13,
      "metadata": {
        "collapsed": true,
        "slideshow": {
          "slide_type": "-"
        }
      }
    },
    {
      "cell_type": "markdown",
      "source": [
        "For such alternate constructors, the `classmethod` is particularly efficient"
      ],
      "metadata": {
        "slideshow": {
          "slide_type": "subslide"
        }
      }
    },
    {
      "cell_type": "code",
      "source": [
        "class Array(object):\n",
        "    \"\"\"Array toolkit\"\"\"\n",
        "    \n",
        "    version = '0.3b'\n",
        "    \n",
        "    def __init__(self, shape):\n",
        "        self.size_y, self.size_x = shape\n",
        "    \n",
        "    @classmethod                   # classmethod decorator\n",
        "    def from_fits(cls, filename):  # cls is the first argument in a classmethod\n",
        "        \"\"\"Construct an Array from a FITS image\"\"\"\n",
        "        array = pyfits.getdata(filename)\n",
        "        return Array(array.shape)           \n",
        "    \n",
        "    def area(self):\n",
        "        \"\"\"Pixel area of the array\"\"\"\n",
        "        return self.size_x * self.size_y\n",
        "    \n",
        "    def perimeter(self):\n",
        "        \"\"\"Circumference of the array\"\"\"\n",
        "        return 2 * (self.size_x + self.size_y)"
      ],
      "outputs": [],
      "execution_count": 14,
      "metadata": {
        "collapsed": true,
        "slideshow": {
          "slide_type": "-"
        }
      }
    },
    {
      "cell_type": "markdown",
      "source": [
        "## Test of the classmethod constructor"
      ],
      "metadata": {
        "slideshow": {
          "slide_type": "subslide"
        }
      }
    },
    {
      "cell_type": "code",
      "source": [
        "print(\"Array version\", Array.version)"
      ],
      "outputs": [
        {
          "output_type": "stream",
          "name": "stdout",
          "text": [
            "Array version 0.3b\n"
          ]
        }
      ],
      "execution_count": 15,
      "metadata": {
        "collapsed": false,
        "slideshow": {
          "slide_type": "-"
        }
      }
    },
    {
      "cell_type": "code",
      "source": [
        "A = Array.from_fits(fitsfile)\n",
        "\n",
        "print(\"The FITS image '{2}' is an array of shape ({0}x{1}).\".format(A.size_y, A.size_x, fitsfile))\n",
        "print(\"It has a perimeter of {0} pixels \"\n",
        "      \"and an area of {1} sq.pix\".format(A.perimeter(), A.area()))"
      ],
      "outputs": [
        {
          "output_type": "stream",
          "name": "stdout",
          "text": [
            "The FITS image 'array.fits' is an array of shape (16x12).\n",
            "It has a perimeter of 56 pixels and an area of 192 sq.pix\n"
          ]
        }
      ],
      "execution_count": 16,
      "metadata": {
        "collapsed": false,
        "slideshow": {
          "slide_type": "fragment"
        }
      }
    },
    {
      "cell_type": "markdown",
      "source": [
        "This should also work with subclasses"
      ],
      "metadata": {
        "slideshow": {
          "slide_type": "subslide"
        }
      }
    },
    {
      "cell_type": "code",
      "source": [
        "class Frame(Array):\n",
        "    \"\"\"Frame object inherited from Array\"\"\"\n",
        "    \n",
        "    def perimeter(self):\n",
        "        \"\"\"Circumference of the frame\"\"\"\n",
        "        return Array.perimeter(self) + 8"
      ],
      "outputs": [],
      "execution_count": 17,
      "metadata": {
        "collapsed": true
      }
    },
    {
      "cell_type": "code",
      "source": [
        "print(\"Frame version\", Frame.version)\n",
        "\n",
        "F = Frame.from_fits(fitsfile)\n",
        "print(\"The FITS image '{2}' is an array of shape ({0}x{1}).\".format(F.size_y, F.size_x, fitsfile))\n",
        "print(\"Its frame has a perimeter of {0} pixels \"\n",
        "      \"and an area of {1} sq.pix\".format(F.perimeter(), F.area()))"
      ],
      "outputs": [
        {
          "output_type": "stream",
          "name": "stdout",
          "text": [
            "Frame version 0.3b\n",
            "The FITS image 'array.fits' is an array of shape (16x12).\n",
            "Its frame has a perimeter of 56 pixels and an area of 192 sq.pix\n"
          ]
        }
      ],
      "execution_count": 18,
      "metadata": {
        "collapsed": false,
        "slideshow": {
          "slide_type": "fragment"
        }
      }
    },
    {
      "cell_type": "markdown",
      "source": [
        "***Something went wrong !***"
      ],
      "metadata": {}
    },
    {
      "cell_type": "markdown",
      "source": [
        "Indeed, when finalizing the alternate constructor, we returned an `Array`.\n",
        "\nIn order to **achieve inheritance**, one must use the `cls` argument as return value."
      ],
      "metadata": {
        "slideshow": {
          "slide_type": "subslide"
        }
      }
    },
    {
      "cell_type": "code",
      "source": [
        "class Array(object):\n",
        "    \"\"\"Array toolkit\"\"\"\n",
        "    \n",
        "    version = '0.3'\n",
        "    \n",
        "    def __init__(self, shape):\n",
        "        self.size_y, self.size_x = shape\n",
        "    \n",
        "    @classmethod                  \n",
        "    def from_fits(cls, filename):  \n",
        "        \"\"\"Construct an Array from a FITS image\"\"\"\n",
        "        array = pyfits.getdata(filename)\n",
        "        return cls(array.shape)  # cls is returned to preserve inheritance       \n",
        "    \n",
        "    def area(self):\n",
        "        \"\"\"Pixel area of the array\"\"\"\n",
        "        return self.size_x * self.size_y\n",
        "    \n",
        "    def perimeter(self):\n",
        "        \"\"\"Circumference of the array\"\"\"\n",
        "        return 2 * (self.size_x + self.size_y)"
      ],
      "outputs": [],
      "execution_count": 19,
      "metadata": {
        "collapsed": true
      }
    },
    {
      "cell_type": "markdown",
      "source": [
        "## Let's try this again"
      ],
      "metadata": {
        "slideshow": {
          "slide_type": "subslide"
        }
      }
    },
    {
      "cell_type": "code",
      "source": [
        "class Frame(Array):\n",
        "    \"\"\"Frame object inherited from Array\"\"\"\n",
        "    \n",
        "    def perimeter(self):\n",
        "        \"\"\"Circumference of the frame\"\"\"\n",
        "        return Array.perimeter(self) + 8"
      ],
      "outputs": [],
      "execution_count": 20,
      "metadata": {
        "collapsed": true,
        "slideshow": {
          "slide_type": "-"
        }
      }
    },
    {
      "cell_type": "code",
      "source": [
        "print(\"Frame version\", Frame.version)\n",
        "\n",
        "F = Frame.from_fits(fitsfile)\n",
        "print(\"The FITS image '{2}' is an array of shape ({0}x{1}).\".format(F.size_y, F.size_x, fitsfile))\n",
        "print(\"Its frame has a perimeter of {0} pixels \"\n",
        "      \"and an area of {1} sq.pix\".format(F.perimeter(), F.area()))"
      ],
      "outputs": [
        {
          "output_type": "stream",
          "name": "stdout",
          "text": [
            "Frame version 0.3\n",
            "The FITS image 'array.fits' is an array of shape (16x12).\n",
            "Its frame has a perimeter of 64 pixels and an area of 192 sq.pix\n"
          ]
        }
      ],
      "execution_count": 21,
      "metadata": {
        "collapsed": false,
        "slideshow": {
          "slide_type": "fragment"
        }
      }
    },
    {
      "cell_type": "markdown",
      "source": [
        "This time it worked !"
      ],
      "metadata": {
        "slideshow": {
          "slide_type": "fragment"
        }
      }
    },
    {
      "cell_type": "markdown",
      "source": [
        "# Static method"
      ],
      "metadata": {
        "slideshow": {
          "slide_type": "slide"
        }
      }
    },
    {
      "cell_type": "markdown",
      "source": [
        "A new function needs to be implemented for conversion purposes."
      ],
      "metadata": {
        "slideshow": {
          "slide_type": "subslide"
        }
      }
    },
    {
      "cell_type": "code",
      "source": [
        "def pix_to_arcsec(pixels):\n",
        "    \"\"\"Convert pixels to sky angle in arcseconds\"\"\"\n",
        "    return round(pixels * 0.15, 3)"
      ],
      "outputs": [],
      "execution_count": 22,
      "metadata": {
        "collapsed": true
      }
    },
    {
      "cell_type": "markdown",
      "source": [
        "This function is \n",
        "* related to the `Array` class,\n",
        "* obviously related to `Array` subclasses,\n",
        "\n",
        "BUT\n",
        "\n* does neither use class nor instance variable"
      ],
      "metadata": {}
    },
    {
      "cell_type": "markdown",
      "source": [
        "One could simply add it as a common class function..."
      ],
      "metadata": {
        "slideshow": {
          "slide_type": "subslide"
        }
      }
    },
    {
      "cell_type": "code",
      "source": [
        "class Array(object):\n",
        "    \"\"\"Array toolkit\"\"\"\n",
        "    \n",
        "    version = '0.4b'\n",
        "    \n",
        "    def __init__(self, shape):\n",
        "        self.size_y, self.size_x = shape\n",
        "        \n",
        "    @classmethod           \n",
        "    def from_fits(cls, filename):\n",
        "        \"\"\"Construct an Array from a FITS image\"\"\"\n",
        "        array = pyfits.getdata(filename)\n",
        "        return cls(array.shape)        \n",
        "        \n",
        "    def area(self):\n",
        "        \"\"\"Pixel area of the array\"\"\"\n",
        "        return self.size_x * self.size_y\n",
        "    \n",
        "    def perimeter(self):\n",
        "        \"\"\"Circumference of the array\"\"\"\n",
        "        return 2 * (self.size_x + self.size_y)\n",
        "\n",
        "    @staticmethod\n",
        "    def pix_to_arcsec(self, pixels):\n",
        "        \"\"\"Convert pixels to sky angle in arcseconds\"\"\"\n",
        "        return round(pixels * 0.15, 3)"
      ],
      "outputs": [],
      "execution_count": 23,
      "metadata": {
        "collapsed": true,
        "slideshow": {
          "slide_type": "-"
        }
      }
    },
    {
      "cell_type": "markdown",
      "source": [
        "but since it **does not rely on `self`**, it is clearer to use a static method instead."
      ],
      "metadata": {
        "slideshow": {
          "slide_type": "subslide"
        }
      }
    },
    {
      "cell_type": "code",
      "source": [
        "class Array(object):\n",
        "    \"\"\"Array toolkit\"\"\"\n",
        "    \n",
        "    version = '0.4'\n",
        "    \n",
        "    def __init__(self, shape):\n",
        "        self.size_y, self.size_x = shape\n",
        "        \n",
        "    @classmethod           \n",
        "    def from_fits(cls, filename):\n",
        "        \"\"\"Construct an Array from a FITS image\"\"\"\n",
        "        array = pyfits.getdata(filename)\n",
        "        return cls(array.shape)        \n",
        "        \n",
        "    def area(self):\n",
        "        \"\"\"Pixel area of the array\"\"\"\n",
        "        return self.size_x * self.size_y\n",
        "    \n",
        "    def perimeter(self):\n",
        "        \"\"\"Circumference of the array\"\"\"\n",
        "        return 2 * (self.size_x + self.size_y)\n",
        "\n",
        "    @staticmethod\n",
        "    def pix_to_arcsec(pixels):\n",
        "        \"\"\"Convert pixels to sky angle in arcseconds\"\"\"\n",
        "        return round(pixels * 0.15, 3)"
      ],
      "outputs": [],
      "execution_count": 24,
      "metadata": {
        "collapsed": true,
        "slideshow": {
          "slide_type": "-"
        }
      }
    },
    {
      "cell_type": "markdown",
      "source": [
        "The purpose of static method is to **attach functions to classes**.\n",
        "\nIt **improves the findability** of the function and makes sure that people use the function **in the appropriate context**."
      ],
      "metadata": {
        "slideshow": {
          "slide_type": "fragment"
        }
      }
    },
    {
      "cell_type": "markdown",
      "source": [
        "## Test of the static method"
      ],
      "metadata": {
        "slideshow": {
          "slide_type": "subslide"
        }
      }
    },
    {
      "cell_type": "code",
      "source": [
        "print(\"Array version\", Array.version)"
      ],
      "outputs": [
        {
          "output_type": "stream",
          "name": "stdout",
          "text": [
            "Array version 0.4\n"
          ]
        }
      ],
      "execution_count": 25,
      "metadata": {
        "collapsed": false,
        "slideshow": {
          "slide_type": "-"
        }
      }
    },
    {
      "cell_type": "code",
      "source": [
        "A = Array.from_fits(fitsfile)\n",
        "sizey, sizex = A.size_y, A.size_x\n",
        "\n",
        "print(\"The FITS image '{2}' is an array of shape ({0}x{1}),\".format(A.size_y, A.size_x, fitsfile))\n",
        "print(\"which corresponds to an angle on the sky of {0} x {1} sq.arcseconds\".format(A.pix_to_arcsec(sizex), A.pix_to_arcsec(sizey)))"
      ],
      "outputs": [
        {
          "output_type": "stream",
          "name": "stdout",
          "text": [
            "The FITS image 'array.fits' is an array of shape (16x12),\n",
            "which corresponds to an angle on the sky of 1.8 x 2.4 sq.arcseconds\n"
          ]
        }
      ],
      "execution_count": 26,
      "metadata": {
        "collapsed": false,
        "slideshow": {
          "slide_type": "fragment"
        }
      }
    },
    {
      "cell_type": "markdown",
      "source": [
        "# String representation"
      ],
      "metadata": {
        "slideshow": {
          "slide_type": "slide"
        }
      }
    },
    {
      "cell_type": "markdown",
      "source": [
        "Every instance of a Python **object** is associated with a **string representation**.\n",
        "\nIt carries information on the object or particular instance."
      ],
      "metadata": {
        "slideshow": {
          "slide_type": "subslide"
        }
      }
    },
    {
      "cell_type": "code",
      "source": [
        "class Test(object):\n",
        "    \"\"\"Test class\"\"\"\n",
        "    version = '0.1'\n",
        "    \n",
        "    def __repr__(self):\n",
        "        return \"String representation of Test class\""
      ],
      "outputs": [],
      "execution_count": 27,
      "metadata": {
        "collapsed": false,
        "slideshow": {
          "slide_type": "-"
        }
      }
    },
    {
      "cell_type": "markdown",
      "source": [
        "That string representation is defined by the `__repr__` method and triggered with \n",
        "\n",
        "* the build-in method `repr()`\n",
        "* the built-in method `str()` \n",
        "\n\n",
        "and printed by \n",
        "\n",
        "* the raw terminal output\n",
        "* the `print()` method."
      ],
      "metadata": {
        "slideshow": {
          "slide_type": "-"
        }
      }
    },
    {
      "cell_type": "code",
      "source": [
        "print(Test())"
      ],
      "outputs": [
        {
          "output_type": "stream",
          "name": "stdout",
          "text": [
            "String representation of Test class\n"
          ]
        }
      ],
      "execution_count": 28,
      "metadata": {
        "collapsed": false,
        "slideshow": {
          "slide_type": "-"
        }
      }
    },
    {
      "cell_type": "code",
      "source": [
        "print(repr(Test()))"
      ],
      "outputs": [
        {
          "output_type": "stream",
          "name": "stdout",
          "text": [
            "String representation of Test class\n"
          ]
        }
      ],
      "execution_count": 29,
      "metadata": {
        "collapsed": false,
        "slideshow": {
          "slide_type": "-"
        }
      }
    },
    {
      "cell_type": "markdown",
      "source": [
        "There is also an optional **alternate** string representation defined by the `__str__` method, which is exclusively triggered by `str()` and `print()`."
      ],
      "metadata": {
        "slideshow": {
          "slide_type": "subslide"
        }
      }
    },
    {
      "cell_type": "code",
      "source": [
        "class Test(object):\n",
        "    \"\"\"Test class\"\"\"\n",
        "    version = '0.2'\n",
        "    \n",
        "    def __repr__(self):\n",
        "        return \"String representation of Test class\"\n",
        "    \n",
        "    def __str__(self):\n",
        "        return \"Alternate string representation of Test class\""
      ],
      "outputs": [],
      "execution_count": 30,
      "metadata": {
        "collapsed": true,
        "slideshow": {
          "slide_type": "-"
        }
      }
    },
    {
      "cell_type": "code",
      "source": [
        "print(Test())"
      ],
      "outputs": [
        {
          "output_type": "stream",
          "name": "stdout",
          "text": [
            "Alternate string representation of Test class\n"
          ]
        }
      ],
      "execution_count": 31,
      "metadata": {
        "collapsed": false,
        "slideshow": {
          "slide_type": "-"
        }
      }
    },
    {
      "cell_type": "code",
      "source": [
        "print(repr(Test()))"
      ],
      "outputs": [
        {
          "output_type": "stream",
          "name": "stdout",
          "text": [
            "String representation of Test class\n"
          ]
        }
      ],
      "execution_count": 32,
      "metadata": {
        "collapsed": false,
        "slideshow": {
          "slide_type": "-"
        }
      }
    },
    {
      "cell_type": "markdown",
      "source": [
        "If `__repr__` is defined but `__str__` is not, **`__str__` defaults to `__repr__`**."
      ],
      "metadata": {
        "slideshow": {
          "slide_type": "fragment"
        }
      }
    },
    {
      "cell_type": "markdown",
      "source": [
        "It is useful to declare the string representation when you define a new class."
      ],
      "metadata": {
        "slideshow": {
          "slide_type": "subslide"
        }
      }
    },
    {
      "cell_type": "code",
      "source": [
        "class Array(object):\n",
        "    \"\"\"Array toolkit\"\"\"\n",
        "    \n",
        "    version = '0.5'\n",
        "    \n",
        "    def __init__(self, shape):\n",
        "        self.size_y, self.size_x = shape\n",
        "        \n",
        "    def __repr__(self):\n",
        "        \"\"\"String representation of the class\"\"\"\n",
        "        return \"{0} of shape ({1}x{2})\".format(self.__class__.__name__, self.size_y, self.size_x)\n",
        "        \n",
        "    @classmethod           \n",
        "    def from_fits(cls, filename):\n",
        "        \"\"\"Construct an Array from a FITS image\"\"\"\n",
        "        array = pyfits.getdata(filename)\n",
        "        return cls(array.shape)        \n",
        "        \n",
        "    def area(self):\n",
        "        \"\"\"Pixel area of the array\"\"\"\n",
        "        return self.size_x * self.size_y\n",
        "    \n",
        "    def perimeter(self):\n",
        "        \"\"\"Circumference of the array\"\"\"\n",
        "        return 2 * (self.size_x + self.size_y)\n",
        "\n",
        "    @staticmethod\n",
        "    def pix_to_arcsec(pixels):\n",
        "        \"\"\"Convert pixels to sky angle in arcseconds\"\"\"\n",
        "        return round(pixels * 0.15, 3)"
      ],
      "outputs": [],
      "execution_count": 33,
      "metadata": {
        "collapsed": true,
        "slideshow": {
          "slide_type": "-"
        }
      }
    },
    {
      "cell_type": "markdown",
      "source": [
        "## Test of the Array string repr"
      ],
      "metadata": {
        "slideshow": {
          "slide_type": "subslide"
        }
      }
    },
    {
      "cell_type": "code",
      "source": [
        "print(\"Array version\", Array.version)"
      ],
      "outputs": [
        {
          "output_type": "stream",
          "name": "stdout",
          "text": [
            "Array version 0.5\n"
          ]
        }
      ],
      "execution_count": 34,
      "metadata": {
        "collapsed": false,
        "slideshow": {
          "slide_type": "-"
        }
      }
    },
    {
      "cell_type": "code",
      "source": [
        "A = Array((12, 21))"
      ],
      "outputs": [],
      "execution_count": 35,
      "metadata": {
        "collapsed": true,
        "slideshow": {
          "slide_type": "-"
        }
      }
    },
    {
      "cell_type": "code",
      "source": [
        "print(A)"
      ],
      "outputs": [
        {
          "output_type": "stream",
          "name": "stdout",
          "text": [
            "Array of shape (12x21)\n"
          ]
        }
      ],
      "execution_count": 36,
      "metadata": {
        "collapsed": false,
        "slideshow": {
          "slide_type": "-"
        }
      }
    },
    {
      "cell_type": "code",
      "source": [
        "print(repr(A))"
      ],
      "outputs": [
        {
          "output_type": "stream",
          "name": "stdout",
          "text": [
            "Array of shape (12x21)\n"
          ]
        }
      ],
      "execution_count": 37,
      "metadata": {
        "collapsed": false,
        "slideshow": {
          "slide_type": "-"
        }
      }
    },
    {
      "cell_type": "markdown",
      "source": [
        "## What about subclasses ?"
      ],
      "metadata": {
        "slideshow": {
          "slide_type": "subslide"
        }
      }
    },
    {
      "cell_type": "code",
      "source": [
        "class Frame(Array):\n",
        "    \"\"\"Frame object inherited from Array\"\"\"\n",
        "    \n",
        "    def perimeter(self):\n",
        "        \"\"\"Circumference of the frame\"\"\"\n",
        "        return Array.perimeter(self) + 8"
      ],
      "outputs": [],
      "execution_count": 38,
      "metadata": {
        "collapsed": true,
        "slideshow": {
          "slide_type": "-"
        }
      }
    },
    {
      "cell_type": "code",
      "source": [
        "print(\"Frame version\", Frame.version)\n",
        "\n",
        "F = Frame((12, 21))\n",
        "\n",
        "print(F)\n",
        "print(repr(F))"
      ],
      "outputs": [
        {
          "output_type": "stream",
          "name": "stdout",
          "text": [
            "Frame version 0.5\n",
            "Frame of shape (12x21)\n",
            "Frame of shape (12x21)\n"
          ]
        }
      ],
      "execution_count": 39,
      "metadata": {
        "collapsed": false,
        "slideshow": {
          "slide_type": "fragment"
        }
      }
    },
    {
      "cell_type": "markdown",
      "source": [
        "# Property"
      ],
      "metadata": {
        "slideshow": {
          "slide_type": "slide"
        }
      }
    },
    {
      "cell_type": "markdown",
      "source": [
        "What if instead of storing two variables `size_x` and `size_y` you wanted to \n",
        "\n",
        "1) only store a single variable \n",
        "\n",
        "**AND**\n",
        "\n2) continue using the `size_x` and `size_y` attributes not to break code ?!"
      ],
      "metadata": {
        "slideshow": {
          "slide_type": "subslide"
        }
      }
    },
    {
      "cell_type": "markdown",
      "source": [
        "The answer is to use a `@property` decorator, that defines getter and setter methods for a given variable."
      ],
      "metadata": {
        "slideshow": {
          "slide_type": "fragment"
        }
      }
    },
    {
      "cell_type": "markdown",
      "source": [
        "In our example, this would look like"
      ],
      "metadata": {
        "slideshow": {
          "slide_type": "subslide"
        }
      }
    },
    {
      "cell_type": "code",
      "source": [
        "class Array(object):\n",
        "    \"\"\"Array toolkit\"\"\"\n",
        "    \n",
        "    version = '0.6'\n",
        "    \n",
        "    def __init__(self, shape):\n",
        "        self.shape = list(shape)\n",
        "    \n",
        "    @property\n",
        "    def size_x(self):\n",
        "        return self.shape[1]\n",
        "    \n",
        "    @size_x.setter\n",
        "    def size_x(self, size):\n",
        "        self.shape[1] = size\n",
        "        \n",
        "    @property\n",
        "    def size_y(self):\n",
        "        return self.shape[0]\n",
        "    \n",
        "    @size_y.setter\n",
        "    def size_y(self, size):\n",
        "        self.shape[0] = size\n",
        "    \n",
        "    def area(self):\n",
        "        \"\"\"Pixel area of the array\"\"\"\n",
        "        return self.size_x * self.size_y\n",
        "    \n",
        "    def perimeter(self):\n",
        "        \"\"\"Circumference of the array\"\"\"\n",
        "        return 2 * (self.size_x + self.size_y)"
      ],
      "outputs": [],
      "execution_count": 40,
      "metadata": {
        "collapsed": true,
        "slideshow": {
          "slide_type": "-"
        }
      }
    },
    {
      "cell_type": "markdown",
      "source": [
        "`size_x` and `size_y` and now properties and no more variables. They are pointers to entries of the shape list. Thus they do not use memory."
      ],
      "metadata": {
        "slideshow": {
          "slide_type": "subslide"
        }
      }
    },
    {
      "cell_type": "markdown",
      "source": [
        "***NOTE:*** The initialization of `shape` in `__init__` is needed in our case for Python to know shape is a list. But for single variables, such initialization is in general not necessary."
      ],
      "metadata": {
        "slideshow": {
          "slide_type": "-"
        }
      }
    },
    {
      "cell_type": "markdown",
      "source": [
        "---"
      ],
      "metadata": {
        "collapsed": true,
        "slideshow": {
          "slide_type": "-"
        }
      }
    },
    {
      "cell_type": "markdown",
      "source": [
        "An other usage of the `property` is to access variables that require some computation, without using a function call `()`.\n",
        "\nIn such case, the `@method.setter` is not used."
      ],
      "metadata": {
        "slideshow": {
          "slide_type": "-"
        }
      }
    },
    {
      "cell_type": "markdown",
      "source": [
        "## Test of the properties"
      ],
      "metadata": {
        "slideshow": {
          "slide_type": "subslide"
        }
      }
    },
    {
      "cell_type": "code",
      "source": [
        "print(\"Array version\", Array.version)"
      ],
      "outputs": [
        {
          "output_type": "stream",
          "name": "stdout",
          "text": [
            "Array version 0.6\n"
          ]
        }
      ],
      "execution_count": 41,
      "metadata": {
        "collapsed": false,
        "slideshow": {
          "slide_type": "-"
        }
      }
    },
    {
      "cell_type": "code",
      "source": [
        "A = Array((12, 21))"
      ],
      "outputs": [],
      "execution_count": 42,
      "metadata": {
        "collapsed": true,
        "slideshow": {
          "slide_type": "-"
        }
      }
    },
    {
      "cell_type": "code",
      "source": [
        "print(\"Size X = {0}\\nSize Y = {1}\\nShape = {2}\".format(A.size_x, A.size_y, A.shape))"
      ],
      "outputs": [
        {
          "output_type": "stream",
          "name": "stdout",
          "text": [
            "Size X = 21\n",
            "Size Y = 12\n",
            "Shape = [12, 21]\n"
          ]
        }
      ],
      "execution_count": 43,
      "metadata": {
        "collapsed": false,
        "slideshow": {
          "slide_type": "-"
        }
      }
    },
    {
      "cell_type": "markdown",
      "source": [
        "# Name mangling"
      ],
      "metadata": {
        "slideshow": {
          "slide_type": "slide"
        }
      }
    },
    {
      "cell_type": "markdown",
      "source": [
        "The **name mangling** is a step used for **protecting class functions** against possible overrides in a subclass.\n",
        "\nSuch issues might happen if for some reason a given function relies on an other one."
      ],
      "metadata": {
        "slideshow": {
          "slide_type": "subslide"
        }
      }
    },
    {
      "cell_type": "code",
      "source": [
        "class Array(object):\n",
        "    \"\"\"Array toolkit\"\"\"\n",
        "    \n",
        "    version = '0.7b'\n",
        "    \n",
        "    def __init__(self, shape):\n",
        "        self.size_y, self.size_x = shape\n",
        "             \n",
        "    def area(self):\n",
        "        \"\"\"Pixel area of the array\"\"\"\n",
        "        p = self.perimeter()\n",
        "        size_y = int(p / 2) - self.size_x\n",
        "        return self.size_x * size_y\n",
        "    \n",
        "    def perimeter(self):\n",
        "        \"\"\"Circumference of the array\"\"\"\n",
        "        return 2 * (self.size_x + self.size_y)"
      ],
      "outputs": [],
      "execution_count": 44,
      "metadata": {
        "collapsed": true,
        "slideshow": {
          "slide_type": "-"
        }
      }
    },
    {
      "cell_type": "markdown",
      "source": [
        "In such case, the inheritance and method overridding will ***break*** the function."
      ],
      "metadata": {
        "slideshow": {
          "slide_type": "subslide"
        }
      }
    },
    {
      "cell_type": "code",
      "source": [
        "class Frame(Array):\n",
        "    \"\"\"Frame object inherited from Array\"\"\"\n",
        "    \n",
        "    def perimeter(self):\n",
        "        \"\"\"Circumference of the frame\"\"\"\n",
        "        return Array.perimeter(self) + 8"
      ],
      "outputs": [],
      "execution_count": 45,
      "metadata": {
        "collapsed": true,
        "slideshow": {
          "slide_type": "-"
        }
      }
    },
    {
      "cell_type": "code",
      "source": [
        "print(\"Array version\", Array.version)\n",
        "print(\"Frame version\", Frame.version)"
      ],
      "outputs": [
        {
          "output_type": "stream",
          "name": "stdout",
          "text": [
            "Array version 0.7b\n",
            "Frame version 0.7b\n"
          ]
        }
      ],
      "execution_count": 46,
      "metadata": {
        "collapsed": false,
        "slideshow": {
          "slide_type": "-"
        }
      }
    },
    {
      "cell_type": "code",
      "source": [
        "A = Array((12, 21))\n",
        "F = Frame((12, 21))\n",
        "\n",
        "print(\"Array area: {0} sq.pix\\n\"\n",
        "      \"Frame area: {1} sq.pix\".format(A.area(), F.area()))"
      ],
      "outputs": [
        {
          "output_type": "stream",
          "name": "stdout",
          "text": [
            "Array area: 252 sq.pix\n",
            "Frame area: 336 sq.pix\n"
          ]
        }
      ],
      "execution_count": 47,
      "metadata": {
        "collapsed": false,
        "slideshow": {
          "slide_type": "-"
        }
      }
    },
    {
      "cell_type": "markdown",
      "source": [
        "Since there are **no private methods** in Python, a way to solve this is to attach a given method to the class.\n",
        "\nThis is precisely what mangling does."
      ],
      "metadata": {
        "slideshow": {
          "slide_type": "subslide"
        }
      }
    },
    {
      "cell_type": "code",
      "source": [
        "class Array(object):\n",
        "    \"\"\"Array toolkit\"\"\"\n",
        "    \n",
        "    version = '0.7'\n",
        "    \n",
        "    def __init__(self, shape):\n",
        "        self.size_y, self.size_x = shape\n",
        "             \n",
        "    def area(self):\n",
        "        \"\"\"Pixel area of the array\"\"\"\n",
        "        p = self.__perimeter()\n",
        "        size_y = int(p / 2) - self.size_x\n",
        "        return self.size_x * size_y\n",
        "    \n",
        "    def perimeter(self):\n",
        "        \"\"\"Circumference of the array\"\"\"\n",
        "        return 2 * (self.size_x + self.size_y)\n",
        "    \n",
        "    __perimeter = perimeter"
      ],
      "outputs": [],
      "execution_count": 48,
      "metadata": {
        "collapsed": false,
        "slideshow": {
          "slide_type": "-"
        }
      }
    },
    {
      "cell_type": "markdown",
      "source": [
        "When interpreting the code, Python **replaces `__method` by `_Class__method`** in the class dictionary."
      ],
      "metadata": {
        "slideshow": {
          "slide_type": "subslide"
        }
      }
    },
    {
      "cell_type": "code",
      "source": [
        "methods = [method \n",
        "           for method in Array.__dict__.keys()\n",
        "           if not method.endswith('__')]\n",
        "print(\"Array method dictionary : {}\".format(methods))"
      ],
      "outputs": [
        {
          "output_type": "stream",
          "name": "stdout",
          "text": [
            "Array method dictionary : ['version', '_Array__perimeter', 'perimeter', 'area']\n"
          ]
        }
      ],
      "execution_count": 49,
      "metadata": {
        "collapsed": false,
        "slideshow": {
          "slide_type": "-"
        }
      }
    },
    {
      "cell_type": "markdown",
      "source": [
        "This way, even if the subclass uses the same trick, it will create a `_Subclass__method` and will thus not override the parent method."
      ],
      "metadata": {
        "slideshow": {
          "slide_type": "-"
        }
      }
    },
    {
      "cell_type": "code",
      "source": [
        "class Frame(Array):\n",
        "    \"\"\"Frame object inherited from Array\"\"\"\n",
        "    \n",
        "    def perimeter(self):\n",
        "        \"\"\"Circumference of the frame\"\"\"\n",
        "        return Array.perimeter(self) + 8"
      ],
      "outputs": [],
      "execution_count": 50,
      "metadata": {
        "collapsed": true,
        "slideshow": {
          "slide_type": "subslide"
        }
      }
    },
    {
      "cell_type": "code",
      "source": [
        "print(\"Array version\", Array.version)\n",
        "print(\"Frame version\", Frame.version)"
      ],
      "outputs": [
        {
          "output_type": "stream",
          "name": "stdout",
          "text": [
            "Array version 0.7\n",
            "Frame version 0.7\n"
          ]
        }
      ],
      "execution_count": 51,
      "metadata": {
        "collapsed": false,
        "slideshow": {
          "slide_type": "-"
        }
      }
    },
    {
      "cell_type": "code",
      "source": [
        "A = Array((12, 21))\n",
        "F = Frame((12, 21))\n",
        "\n",
        "print(\"Array area: {0} sq.pix\\n\"\n",
        "      \"Frame area: {1} sq.pix\".format(A.area(), F.area()))"
      ],
      "outputs": [
        {
          "output_type": "stream",
          "name": "stdout",
          "text": [
            "Array area: 252 sq.pix\n",
            "Frame area: 252 sq.pix\n"
          ]
        }
      ],
      "execution_count": 52,
      "metadata": {
        "collapsed": false,
        "slideshow": {
          "slide_type": "-"
        }
      }
    },
    {
      "cell_type": "markdown",
      "source": [
        "## Summary: New style Python Classes\n",
        "\n",
        "1. Inherit from object\n",
        "2. Instance variables for information unique to an instance. Class variables for data shared among all instances.\n",
        "3. Regular methods need `self` to operate on instance data\n",
        "4. Class methods implement alternative constructors. They need `cls` so they can create subclass instances as well.\n",
        "5. Static methods attach functions that do not need `self` or `cls` to classes. Static methods improve discoverability and require context to be specified.\n",
        "6. String representation is defined in the `__repr__` method and optionally in the `__str__` method.\n",
        "7. A `property()` lets getter and setter methods be invoked automatically by attribute access. This allows Python classes to freely expose their instance variables.\n",
        "8. Name mangling (or double underscore) makes `self` refer to this class and not its children. It allows the subclass to override any method without breaking the others."
      ],
      "metadata": {
        "slideshow": {
          "slide_type": "slide"
        }
      }
    },
    {
      "cell_type": "markdown",
      "source": [
        "## Some references\n",
        "\n\n",
        "* [Python cheatsheet](https://www.ias.u-psud.fr/pperso/aboucaud/cheatsheet.html)\n",
        "\n",
        "---\n",
        "\n",
        "* [Official Python documentation on classes](https://docs.python.org/3/tutorial/classes.html)\n",
        "* [Object Oriented programming in Python](https://jeffknupp.com/blog/2014/06/18/improve-your-python-python-classes-and-object-oriented-programming/)\n",
        "\n",
        "* [Première approche des classes (FR)](https://openclassrooms.com/courses/apprenez-a-programmer-en-python/premiere-approche-des-classes)\n",
        "* [Classes et métaclasses (FR)](https://zestedesavoir.com/tutoriels/954/notions-de-python-avancees/)\n",
        "\n",
        "---\n",
        "\n",
        "* [Going further with Python](http://sebastianraschka.com/Articles/2014_deep_python.html)\n"
      ],
      "metadata": {
        "slideshow": {
          "slide_type": "slide"
        }
      }
    },
    {
      "cell_type": "markdown",
      "source": [
        "The main reference for this course is a talk from **Raymond Hettinger**."
      ],
      "metadata": {
        "slideshow": {
          "slide_type": "subslide"
        }
      }
    },
    {
      "cell_type": "code",
      "source": [
        "from IPython.display import YouTubeVideo\n",
        "YouTubeVideo('HTLu2DFOdTg')"
      ],
      "outputs": [
        {
          "output_type": "execute_result",
          "execution_count": 53,
          "data": {
            "image/jpeg": "[encoded data removed]",
            "text/html": [
              "\n",
              "        <iframe\n",
              "            width=\"400\"\n",
              "            height=\"300\"\n",
              "            src=\"https://www.youtube.com/embed/HTLu2DFOdTg\"\n",
              "            frameborder=\"0\"\n",
              "            allowfullscreen\n",
              "        ></iframe>\n",
              "        "
            ],
            "text/plain": [
              "<IPython.lib.display.YouTubeVideo at 0x106f5cf28>"
            ]
          },
          "metadata": {}
        }
      ],
      "execution_count": 53,
      "metadata": {
        "collapsed": false,
        "slideshow": {
          "slide_type": "-"
        }
      }
    },
    {
      "cell_type": "markdown",
      "source": [
        "I can only encourage you to check his very clear and instructive talks."
      ],
      "metadata": {
        "slideshow": {
          "slide_type": "-"
        }
      }
    }
  ],
  "metadata": {
    "kernelspec": {
      "name": "python3",
      "language": "python",
      "display_name": "Python 3"
    },
    "language_info": {
      "file_extension": ".py",
      "name": "python",
      "nbconvert_exporter": "python",
      "pygments_lexer": "ipython3",
      "mimetype": "text/x-python",
      "codemirror_mode": {
        "name": "ipython",
        "version": 3
      },
      "version": "3.5.2"
    },
    "kernel_info": {
      "name": "python3"
    }
  },
  "nbformat": 4,
  "nbformat_minor": 0
}