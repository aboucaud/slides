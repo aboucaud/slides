{
 "cells": [
  {
   "cell_type": "markdown",
   "metadata": {
    "slideshow": {
     "slide_type": "slide"
    }
   },
   "source": [
    "# Python documentation\n",
    "---\n",
    "Alexandre Boucaud <aboucaud@ias.u-psud.fr>"
   ]
  },
  {
   "cell_type": "markdown",
   "metadata": {
    "slideshow": {
     "slide_type": "slide"
    }
   },
   "source": [
    "## Overview"
   ]
  },
  {
   "cell_type": "markdown",
   "metadata": {},
   "source": [
    "* [Introduction](#Introduction)\n",
    "* [Method documentation](#Method-documentation)\n",
    "* [Class documentation](#Class-documentation)\n",
    "* [Module documentation](#Module-documentation)\n",
    "* [Comments](#Comments)\n",
    "* [Tips](#Tips)\n",
    "* [Links](#Links)"
   ]
  },
  {
   "cell_type": "markdown",
   "metadata": {
    "slideshow": {
     "slide_type": "slide"
    }
   },
   "source": [
    "## Introduction"
   ]
  },
  {
   "cell_type": "markdown",
   "metadata": {
    "slideshow": {
     "slide_type": "-"
    }
   },
   "source": [
    "This presentation covers the inner documentation of a Python project, meaning the **documentation towards other developers & collaborators**, not a user manual.\n",
    "\n",
    "* Such documentation is written via **docstrings**, a line or block of characters that will be interpreted as such and be delivered to the user when requested.\n",
    "\n",
    "* Everything in Python is an object and **every object can have its own docstring**. \n",
    "\n",
    "* The documentation can be accessed through the builtin **`help()`** function, or via a **?** at right after an object name in an *IPython* terminal."
   ]
  },
  {
   "cell_type": "code",
   "execution_count": 1,
   "metadata": {
    "collapsed": false,
    "slideshow": {
     "slide_type": "fragment"
    }
   },
   "outputs": [
    {
     "name": "stdout",
     "output_type": "stream",
     "text": [
      "Help on function f in module __main__:\n",
      "\n",
      "f()\n",
      "    This is a single-line docstring\n",
      "\n"
     ]
    }
   ],
   "source": [
    "def f():\n",
    "    \"\"\"This is a single-line docstring\"\"\"\n",
    "    \n",
    "help(f)"
   ]
  },
  {
   "cell_type": "markdown",
   "metadata": {
    "slideshow": {
     "slide_type": "slide"
    }
   },
   "source": [
    "# Python docstring"
   ]
  },
  {
   "cell_type": "markdown",
   "metadata": {
    "slideshow": {
     "slide_type": "subslide"
    }
   },
   "source": [
    "## A Python docstring "
   ]
  },
  {
   "cell_type": "markdown",
   "metadata": {
    "slideshow": {
     "slide_type": "-"
    }
   },
   "source": [
    "* starts with `\"\"\"` and ends with `\"\"\"` on a **new line**. "
   ]
  },
  {
   "cell_type": "code",
   "execution_count": null,
   "metadata": {
    "collapsed": true
   },
   "outputs": [],
   "source": [
    "\"\"\"This is a classic Python docstring.\n",
    "\n",
    "It uses multiple lines.\n",
    "\"\"\""
   ]
  },
  {
   "cell_type": "markdown",
   "metadata": {
    "slideshow": {
     "slide_type": "-"
    }
   },
   "source": [
    "The only exception is if the docstring is one-line long."
   ]
  },
  {
   "cell_type": "code",
   "execution_count": null,
   "metadata": {
    "collapsed": true
   },
   "outputs": [],
   "source": [
    "\"\"\"This is a one-line docstring.\"\"\""
   ]
  },
  {
   "cell_type": "markdown",
   "metadata": {
    "slideshow": {
     "slide_type": "-"
    }
   },
   "source": [
    "* uses **double quotes** `\"\"\"` instead of simple quotes `'''`."
   ]
  },
  {
   "cell_type": "markdown",
   "metadata": {
    "slideshow": {
     "slide_type": "-"
    }
   },
   "source": [
    "* shall be wrapped after **72** characters."
   ]
  },
  {
   "cell_type": "markdown",
   "metadata": {
    "slideshow": {
     "slide_type": "-"
    }
   },
   "source": [
    "* has a blank line between paragraphs & sections."
   ]
  },
  {
   "cell_type": "markdown",
   "metadata": {
    "slideshow": {
     "slide_type": "subslide"
    }
   },
   "source": [
    "## The docstring structure is"
   ]
  },
  {
   "cell_type": "markdown",
   "metadata": {},
   "source": [
    "1. Short description\n",
    "2. Deprecation warning *(if applicable)*\n",
    "3. Extended description *(optional)*\n",
    "4. Sections *(see [methods](#Method-documentation) and [classes](#Class-documentation))*\n",
    "5. Links *(optional, use ReStructured Text syntax)*"
   ]
  },
  {
   "cell_type": "code",
   "execution_count": null,
   "metadata": {
    "collapsed": true
   },
   "outputs": [],
   "source": [
    "\"\"\"Short description which fits in a single line.\n",
    "\n",
    "Here is the extended description which uses paragraphs.\n",
    "The paragraphs may be enriched with links like [1]_. The \n",
    "following sections are written using numpy-style doc.\n",
    "\n",
    "Section1\n",
    "--------\n",
    "content of section\n",
    "    blocks can be used\n",
    "    \n",
    "Section2\n",
    "--------\n",
    "new content\n",
    "\n",
    ".. _[1]:\n",
    "    http://www.python.org\n",
    "\n",
    "\"\"\""
   ]
  },
  {
   "cell_type": "markdown",
   "metadata": {
    "slideshow": {
     "slide_type": "subslide"
    }
   },
   "source": [
    "## Numpy vs. Google style doc"
   ]
  },
  {
   "cell_type": "markdown",
   "metadata": {},
   "source": [
    "* Python offer several conventions regarding the use of docstring. You can put any type of information in the docstring, with a free format. "
   ]
  },
  {
   "cell_type": "markdown",
   "metadata": {},
   "source": [
    "* However it is best to use a **standardized format** which would allow other software to generate the code documentation on the fly (for e.g. Sphinx)"
   ]
  },
  {
   "cell_type": "markdown",
   "metadata": {},
   "source": [
    "* The most commonly used doc styles in Python are known as **Google-style** and **Numpy-style**. They are both very easy to write, read, and parse, and look quite similar."
   ]
  },
  {
   "cell_type": "markdown",
   "metadata": {},
   "source": [
    "* In the remainder of this presentation, Numpy-style will be used but one can find information on Google-style doc [here][goodoc] along with some examples [here][gooex].\n",
    "\n",
    "[goodoc]: http://google.github.io/styleguide/pyguide.html?showone=Comments#Comments \"Google-style documentation\"\n",
    "[gooex]: http://sphinxcontrib-napoleon.readthedocs.io/en/latest/example_google.html \"Google-style docstring examples\""
   ]
  },
  {
   "cell_type": "markdown",
   "metadata": {
    "slideshow": {
     "slide_type": "slide"
    }
   },
   "source": [
    "# Method documentation"
   ]
  },
  {
   "cell_type": "markdown",
   "metadata": {
    "slideshow": {
     "slide_type": "subslide"
    }
   },
   "source": [
    "## `Parameters`"
   ]
  },
  {
   "cell_type": "markdown",
   "metadata": {},
   "source": [
    "Methods arguments are documented in the `Parameters` section, with their **type and description**. For keyword arguments, add `optional` and default value, or provide a restricted set of values."
   ]
  },
  {
   "cell_type": "code",
   "execution_count": null,
   "metadata": {
    "collapsed": true
   },
   "outputs": [],
   "source": [
    "def func(param, param2=None, param3='X'):\n",
    "    \"\"\"Simple function\n",
    "    \n",
    "    Parameters\n",
    "    ----------\n",
    "    param : type\n",
    "        Description of `param`\n",
    "    param2 : type, optional\n",
    "        Description of `param2` (default is `None`)\n",
    "    param3 : {'X', 'Y', 'Z'}\n",
    "        Description of `param3` (default is 'X')\n",
    "        \n",
    "    \"\"\""
   ]
  },
  {
   "cell_type": "markdown",
   "metadata": {
    "slideshow": {
     "slide_type": "subslide"
    }
   },
   "source": [
    "##  `Returns`"
   ]
  },
  {
   "cell_type": "markdown",
   "metadata": {
    "slideshow": {
     "slide_type": "-"
    }
   },
   "source": [
    "The documentation of returned values is similar to the `Parameters` except **type is required** but the **value name is optional**."
   ]
  },
  {
   "cell_type": "code",
   "execution_count": null,
   "metadata": {
    "collapsed": true
   },
   "outputs": [],
   "source": [
    "    \"\"\"\n",
    "    Returns\n",
    "    -------\n",
    "    type\n",
    "        Description of the returned value\n",
    "        \n",
    "    \"\"\""
   ]
  },
  {
   "cell_type": "code",
   "execution_count": null,
   "metadata": {
    "collapsed": true
   },
   "outputs": [],
   "source": [
    "    \"\"\"\n",
    "    Returns\n",
    "    -------\n",
    "    return_param1 : type\n",
    "        Description of `return_param1`\n",
    "    return_param2 : type\n",
    "        Description of `return_param2`\n",
    "        \n",
    "    \"\"\""
   ]
  },
  {
   "cell_type": "markdown",
   "metadata": {
    "slideshow": {
     "slide_type": "subslide"
    }
   },
   "source": [
    "## `Yields`\n"
   ]
  },
  {
   "cell_type": "markdown",
   "metadata": {
    "slideshow": {
     "slide_type": "-"
    }
   },
   "source": [
    "If the method is a **generator**, the `Yields` section should be used instead of the `Returns` one. The same rules apply though."
   ]
  },
  {
   "cell_type": "code",
   "execution_count": null,
   "metadata": {
    "collapsed": false
   },
   "outputs": [],
   "source": [
    "    \"\"\"\n",
    "    Yields\n",
    "    ------\n",
    "    type\n",
    "        Description of the yielded value\n",
    "        \n",
    "    \"\"\""
   ]
  },
  {
   "cell_type": "markdown",
   "metadata": {},
   "source": [
    "## `Raises`\n"
   ]
  },
  {
   "cell_type": "markdown",
   "metadata": {},
   "source": [
    "An optional section detailing **which errors get raised** and under what conditions"
   ]
  },
  {
   "cell_type": "code",
   "execution_count": null,
   "metadata": {
    "collapsed": true
   },
   "outputs": [],
   "source": [
    "    \"\"\"\n",
    "    Raises\n",
    "    ------\n",
    "    MyCustomException\n",
    "        If the data is this and not that\n",
    "        \n",
    "    \"\"\""
   ]
  },
  {
   "cell_type": "markdown",
   "metadata": {
    "slideshow": {
     "slide_type": "subslide"
    }
   },
   "source": [
    "## `Notes`"
   ]
  },
  {
   "cell_type": "markdown",
   "metadata": {
    "slideshow": {
     "slide_type": "-"
    }
   },
   "source": [
    "An optional section that provides **additional information** about the code, possibly including a discussion of the algorithm. This section may include **mathematical equations**, written in LaTeX format"
   ]
  },
  {
   "cell_type": "code",
   "execution_count": null,
   "metadata": {
    "collapsed": true
   },
   "outputs": [],
   "source": [
    "    \"\"\"\n",
    "    Notes\n",
    "    -----\n",
    "    Here I can write a silly equation using :math:`\\lambda`\n",
    "    \n",
    "    .. math:: \\sqrt{\\lambda^2} = 1\n",
    "    \n",
    "    \"\"\""
   ]
  },
  {
   "cell_type": "markdown",
   "metadata": {
    "slideshow": {
     "slide_type": "-"
    }
   },
   "source": [
    "## `References`"
   ]
  },
  {
   "cell_type": "markdown",
   "metadata": {
    "slideshow": {
     "slide_type": "-"
    }
   },
   "source": [
    "References cited in the `Notes` section may be listed under the `References` section."
   ]
  },
  {
   "cell_type": "code",
   "execution_count": null,
   "metadata": {
    "collapsed": true
   },
   "outputs": [],
   "source": [
    "    \"\"\"\n",
    "    References\n",
    "    ----------\n",
    "    You can refer to scientific articles as [1]_.\n",
    "\n",
    "    .. [1] Astropy Collaboration, \"Astropy: A community Python \n",
    "    package for astronomy\", Astronomy & Astrophysics, 558, 33, 2013.\n",
    "    \n",
    "    \"\"\""
   ]
  },
  {
   "cell_type": "markdown",
   "metadata": {
    "slideshow": {
     "slide_type": "subslide"
    }
   },
   "source": [
    "## `Examples`"
   ]
  },
  {
   "cell_type": "markdown",
   "metadata": {
    "slideshow": {
     "slide_type": "-"
    }
   },
   "source": [
    "An optional section for examples, using the [doctest][] format. \n",
    "\n",
    "This section is meant to **illustrate usage**, **not** to **provide** a **testing** framework.\n",
    "\n",
    "[doctest]: https://docs.python.org/3/library/doctest.html"
   ]
  },
  {
   "cell_type": "code",
   "execution_count": null,
   "metadata": {
    "collapsed": true
   },
   "outputs": [],
   "source": [
    "    \"\"\"\n",
    "    Examples\n",
    "    --------\n",
    "    >>> a = [4, 3]\n",
    "    >>> a * 2\n",
    "    [4, 3, 4, 3]\n",
    "    \n",
    "    Comments can be included in between examples\n",
    "    \n",
    "    >>> import numpy as np\n",
    "    >>> np.array(a) * 2\n",
    "    array([8, 6])\n",
    "    \n",
    "    \"\"\""
   ]
  },
  {
   "cell_type": "markdown",
   "metadata": {
    "slideshow": {
     "slide_type": "subslide"
    }
   },
   "source": [
    "## Type hinting"
   ]
  },
  {
   "cell_type": "markdown",
   "metadata": {},
   "source": [
    "In Python 3.X, the [PEP484](https://www.python.org/dev/peps/pep-0484/) allows the developers to enrich every method definition with type hinting. "
   ]
  },
  {
   "cell_type": "code",
   "execution_count": null,
   "metadata": {
    "collapsed": false
   },
   "outputs": [],
   "source": [
    "def func_with_annotations(param1: int, param2: float) -> str:"
   ]
  },
  {
   "cell_type": "markdown",
   "metadata": {},
   "source": [
    "Such functionality is currently barely beeing used by Python libraries, except for documentation purposes.\n",
    "\n",
    "If you are using type hinting in your code, then the type information can be removed from the docstring."
   ]
  },
  {
   "cell_type": "code",
   "execution_count": null,
   "metadata": {
    "collapsed": true
   },
   "outputs": [],
   "source": [
    "def func_with_annotations(param1: int, param2: float) -> str:\n",
    "    \"\"\"Simple function with annotations\n",
    "    \n",
    "    Parameters\n",
    "    ----------\n",
    "    param1\n",
    "        Description of `param1`\n",
    "    param2\n",
    "        Description of `param2`\n",
    "        \n",
    "    Returns\n",
    "    -------\n",
    "    bool\n",
    "        `True` if valid, `False if not.\n",
    "    \n",
    "    \"\"\""
   ]
  },
  {
   "cell_type": "markdown",
   "metadata": {
    "slideshow": {
     "slide_type": "slide"
    }
   },
   "source": [
    "# Class documentation"
   ]
  },
  {
   "cell_type": "markdown",
   "metadata": {
    "slideshow": {
     "slide_type": "subslide"
    }
   },
   "source": [
    "## Classes"
   ]
  },
  {
   "cell_type": "markdown",
   "metadata": {
    "slideshow": {
     "slide_type": "-"
    }
   },
   "source": [
    "* use the **same sections** as for the methods (all except `Returns` are applicable). "
   ]
  },
  {
   "cell_type": "markdown",
   "metadata": {},
   "source": [
    "* have two additonal sections: `Attributes` and `Methods`."
   ]
  },
  {
   "cell_type": "markdown",
   "metadata": {},
   "source": [
    "* The **constructor (`__init__`) should be documented**, using a `Parameters` section."
   ]
  },
  {
   "cell_type": "markdown",
   "metadata": {
    "slideshow": {
     "slide_type": "subslide"
    }
   },
   "source": [
    "## `Attributes`"
   ]
  },
  {
   "cell_type": "markdown",
   "metadata": {},
   "source": [
    "In the class docstring, the `Attributes` section may be used to describe **non-method attributes** of the class. "
   ]
  },
  {
   "cell_type": "code",
   "execution_count": null,
   "metadata": {
    "collapsed": true
   },
   "outputs": [],
   "source": [
    "    \"\"\"\n",
    "    Attributes\n",
    "    ----------\n",
    "    x : float\n",
    "        The X coordinate.\n",
    "    y : float\n",
    "        The Y coordinate.\n",
    "    \n",
    "    \"\"\""
   ]
  },
  {
   "cell_type": "markdown",
   "metadata": {},
   "source": [
    "Attributes that are properties and have their own docstrings can be simply listed by name:"
   ]
  },
  {
   "cell_type": "code",
   "execution_count": null,
   "metadata": {
    "collapsed": true
   },
   "outputs": [],
   "source": [
    "    \"\"\"\n",
    "    Attributes\n",
    "    ----------\n",
    "    real\n",
    "    imag\n",
    "    x : float\n",
    "        The X coordinate\n",
    "\n",
    "    \"\"\""
   ]
  },
  {
   "cell_type": "markdown",
   "metadata": {},
   "source": [
    "The `Parameters` section is moved to the docstring of the class constructor(s). "
   ]
  },
  {
   "cell_type": "markdown",
   "metadata": {
    "slideshow": {
     "slide_type": "subslide"
    }
   },
   "source": [
    "## `Methods`"
   ]
  },
  {
   "cell_type": "markdown",
   "metadata": {},
   "source": [
    "In general, it is **not necessary** to list class methods. Those that are not part of the public API have names that start with an underscore. \n",
    "\n",
    "In some cases where only a few methods are relevant and need to be **highlighted**, it becomes useful to have an additional `Methods` section."
   ]
  },
  {
   "cell_type": "code",
   "execution_count": null,
   "metadata": {
    "collapsed": true
   },
   "outputs": [],
   "source": [
    "    \"\"\"\n",
    "    Methods\n",
    "    -------\n",
    "    method_alpha(arg='rgb')\n",
    "        `method_alpha` short description\n",
    "    method_gamma(arg2=1.0)\n",
    "        `method_gamma` short description\n",
    "\n",
    "    \"\"\""
   ]
  },
  {
   "cell_type": "markdown",
   "metadata": {
    "slideshow": {
     "slide_type": "subslide"
    }
   },
   "source": [
    "## Class properties"
   ]
  },
  {
   "cell_type": "markdown",
   "metadata": {},
   "source": [
    "Properties should only be documented in their **getter** method, even if the setter method contains notable behavior."
   ]
  },
  {
   "cell_type": "code",
   "execution_count": null,
   "metadata": {
    "collapsed": true
   },
   "outputs": [],
   "source": [
    "    @property\n",
    "    def size(self):\n",
    "        \"\"\"float: property of the class\n",
    "        \n",
    "        Both getter and setter method documentation is\n",
    "        defined in the getter method docstring\n",
    "        \n",
    "        \"\"\"\n",
    "        return self._size\n",
    "        \n",
    "    @size.setter\n",
    "    def size(self, value):\n",
    "        self._size = value"
   ]
  },
  {
   "cell_type": "markdown",
   "metadata": {
    "slideshow": {
     "slide_type": "subslide"
    }
   },
   "source": [
    "## Class representation"
   ]
  },
  {
   "cell_type": "markdown",
   "metadata": {},
   "source": [
    "As part of the overall documentation, it is useful to **provide** classes with **representations**, that is a definition of `__repr__` and optionally `__str__` special methods.\n",
    "\n",
    "Such methods are called when the class instance is printed on screen."
   ]
  },
  {
   "cell_type": "code",
   "execution_count": 2,
   "metadata": {
    "collapsed": false
   },
   "outputs": [
    {
     "name": "stdout",
     "output_type": "stream",
     "text": [
      "MyClass({'value2': 5, 'value1': 2})\n"
     ]
    }
   ],
   "source": [
    "class MyClass(object):\n",
    "    def __init__(self, value1, value2):\n",
    "        self.value1 = value1\n",
    "        self.value2 = value2\n",
    "        \n",
    "    def __repr__(self):\n",
    "        return \"{!s}({!r})\".format(self.__class__.__name__, self.__dict__)\n",
    "    \n",
    "print(MyClass(2, 5))"
   ]
  },
  {
   "cell_type": "markdown",
   "metadata": {
    "slideshow": {
     "slide_type": "slide"
    }
   },
   "source": [
    "# Module documentation"
   ]
  },
  {
   "cell_type": "markdown",
   "metadata": {
    "slideshow": {
     "slide_type": "subslide"
    }
   },
   "source": [
    "## The module docstring"
   ]
  },
  {
   "cell_type": "markdown",
   "metadata": {
    "slideshow": {
     "slide_type": "-"
    }
   },
   "source": [
    "* appears right after the [boilerplate](#boilerplate) and **before the imports**.\n",
    "\n",
    "* must be written with the exact **same structure and syntax** as the previous examples.\n",
    "\n",
    "* should explain the **scope** of the current module.\n",
    "\n",
    "* can be placed in **`__init__.py`** files to document submodules."
   ]
  },
  {
   "cell_type": "markdown",
   "metadata": {
    "slideshow": {
     "slide_type": "subslide"
    }
   },
   "source": [
    "Should follow the structure, keeping in mind most of these sections are optional :\n",
    "\n",
    "1. summary\n",
    "2. extended summary\n",
    "3. routine listings\n",
    "4. see also\n",
    "5. notes\n",
    "6. references\n",
    "7. examples"
   ]
  },
  {
   "cell_type": "markdown",
   "metadata": {
    "slideshow": {
     "slide_type": "subslide"
    }
   },
   "source": [
    "## Module variable docstring"
   ]
  },
  {
   "cell_type": "code",
   "execution_count": null,
   "metadata": {
    "collapsed": true
   },
   "outputs": [],
   "source": [
    "module_level_variable = 98765\n",
    "\"\"\"int: Module level variable documented inline.\n",
    "\n",
    "The docstring may span multiple lines. The type may optionally be specified\n",
    "on the first line, separated by a colon.\n",
    "\"\"\""
   ]
  },
  {
   "cell_type": "markdown",
   "metadata": {
    "slideshow": {
     "slide_type": "slide"
    }
   },
   "source": [
    "# Comments"
   ]
  },
  {
   "cell_type": "markdown",
   "metadata": {
    "slideshow": {
     "slide_type": "subslide"
    }
   },
   "source": [
    "## Comments"
   ]
  },
  {
   "cell_type": "markdown",
   "metadata": {
    "slideshow": {
     "slide_type": "-"
    }
   },
   "source": [
    "start with the **`#` character** in Python. \n",
    "\n",
    "\n",
    "In a given Python line, everything behind this character will be **escaped** when interpreting the code.\n",
    "\n",
    "\n",
    "There are 3 main user cases for comments in Python:\n",
    "\n",
    "* boilerplate\n",
    "* block comment\n",
    "* inline comment"
   ]
  },
  {
   "cell_type": "markdown",
   "metadata": {
    "slideshow": {
     "slide_type": "subslide"
    }
   },
   "source": [
    "## boilerplate"
   ]
  },
  {
   "cell_type": "markdown",
   "metadata": {},
   "source": [
    "Should be present at **the top** of every `.py` file, before the module docstring."
   ]
  },
  {
   "cell_type": "code",
   "execution_count": null,
   "metadata": {
    "collapsed": true
   },
   "outputs": [],
   "source": [
    "# -*- coding: utf-8 -*-\n",
    "\n",
    "# Copyright (C) 2012-2020 Euclid Developers\n",
    "#\n",
    "# This file is part of <this code>.\n",
    "#\n",
    "# <this code> is free software: you can redistribute it and/or modify\n",
    "# it under the terms of the GNU Lesser General Public License as \n",
    "# published by the Free Software Foundation, either version 3 of \n",
    "# the License, or (at your option) any later version.\n",
    "#\n",
    "# <this code> is distributed in the hope that it will be useful,\n",
    "# but WITHOUT ANY WARRANTY; without even the implied warranty of\n",
    "# MERCHANTABILITY or FITNESS FOR A PARTICULAR PURPOSE.  See the\n",
    "# GNU Lesser General Public License for more details.\n",
    "#\n",
    "# You should have received a copy of the GNU Lesser General Public License\n",
    "# along with <this code>.  If not, see <http://www.gnu.org/licenses/>"
   ]
  },
  {
   "cell_type": "markdown",
   "metadata": {
    "slideshow": {
     "slide_type": "subslide"
    }
   },
   "source": [
    "## block comments"
   ]
  },
  {
   "cell_type": "markdown",
   "metadata": {},
   "source": [
    "Are used to help another developer read the code"
   ]
  },
  {
   "cell_type": "code",
   "execution_count": null,
   "metadata": {
    "collapsed": true
   },
   "outputs": [],
   "source": [
    "# This is an example of a block comment\n",
    "# it can add some explanations on the \n",
    "# current process and for instance give\n",
    "# some references."
   ]
  },
  {
   "cell_type": "markdown",
   "metadata": {},
   "source": [
    "They can also be used to write flags, such as TODO's (which are recognized in some IDEs)"
   ]
  },
  {
   "cell_type": "code",
   "execution_count": null,
   "metadata": {
    "collapsed": true
   },
   "outputs": [],
   "source": [
    "# TODO: check that the returned type is the same as the input type"
   ]
  },
  {
   "cell_type": "markdown",
   "metadata": {
    "slideshow": {
     "slide_type": "subslide"
    }
   },
   "source": [
    "## inline comments"
   ]
  },
  {
   "cell_type": "markdown",
   "metadata": {},
   "source": [
    "Are used for very specific help that only applies to the current line."
   ]
  },
  {
   "cell_type": "code",
   "execution_count": null,
   "metadata": {
    "collapsed": true
   },
   "outputs": [],
   "source": [
    "url_regex = (\n",
    "    r'^(?:http|ftp)s?://'  # http:// or https:// or ftp:// or ftps://\n",
    "    r'(?:(?:[A-Z0-9](?:[A-Z0-9-]{0,61}[A-Z0-9])?\\.)+'\n",
    "    r'(?:[A-Z]{2,6}\\.?|[A-Z0-9-]{2,}\\.?)|'  # domain...\n",
    "    r'localhost|'  # localhost...\n",
    "    r'\\d{1,3}\\.\\d{1,3}\\.\\d{1,3}\\.\\d{1,3})'  # ...or ip\n",
    "    r'(?::\\d+)?'  # optional port\n",
    "    r'(?:/?|[/?]\\S+)$')"
   ]
  },
  {
   "cell_type": "markdown",
   "metadata": {},
   "source": [
    "They should be used with parcimony."
   ]
  },
  {
   "cell_type": "markdown",
   "metadata": {
    "slideshow": {
     "slide_type": "slide"
    }
   },
   "source": [
    "## Tips"
   ]
  },
  {
   "cell_type": "markdown",
   "metadata": {},
   "source": [
    "* `array_like` type should be used for functions that take arguments which can have not only a type ndarray, or types that can be converted to an ndarray.\n",
    "\n",
    "\n",
    "* Variable, module, function, and class names should be written between single back-ticks ( \\``numpy`\\` ).\n",
    "* Use ``*italics*``, `**bold**` and ` ``monospace`` `to augment the readibility elsewhere.\n",
    "\n",
    "\n",
    "* Notes and Warnings if points in the docstring **deserve** special emphasis. Should be used **sparingly**."
   ]
  },
  {
   "cell_type": "code",
   "execution_count": null,
   "metadata": {
    "collapsed": true
   },
   "outputs": [],
   "source": [
    "\"\"\"\n",
    ".. warning:: Warning text.\n",
    "\n",
    ".. note:: Note text.\n",
    "\n",
    "\"\"\""
   ]
  },
  {
   "cell_type": "markdown",
   "metadata": {
    "slideshow": {
     "slide_type": "slide"
    }
   },
   "source": [
    "## Links"
   ]
  },
  {
   "cell_type": "markdown",
   "metadata": {},
   "source": [
    "* reStructuredText [quickref][rstref] & [demo][rstdemo]\n",
    "\n",
    "[rstdemo]: http://docutils.sourceforge.net/docs/user/rst/demo.txt \"reStructuredText Demo\"\n",
    "[rstref]: http://docutils.sourceforge.net/docs/user/rst/quickref.html \"reStructuredText quick reference\""
   ]
  },
  {
   "cell_type": "markdown",
   "metadata": {
    "collapsed": true
   },
   "source": [
    "* Astropy doc [rules][astropy]\n",
    "* LSST doc [rules][lsst]\n",
    "* Type hints [PEP484][pep]\n",
    "\n",
    "[lsst]: https://developer.lsst.io/docs/py_docs.html\n",
    "[astropy]: http://docs.astropy.org/en/stable/development/docrules.html\n",
    "[pep]: https://www.python.org/dev/peps/pep-0484/"
   ]
  },
  {
   "cell_type": "markdown",
   "metadata": {
    "collapsed": true
   },
   "source": [
    "* Sphinx napoleon extension [documentation][napoleon]\n",
    "* Google style doc [how-to][goodoc] & [exemple][gooex]\n",
    "* NumPy style doc [how-to][npdoc] & [example][npex]\n",
    "\n",
    "[napoleon]: http://www.sphinx-doc.org/en/stable/ext/napoleon.html\n",
    "[goodoc]: http://google.github.io/styleguide/pyguide.html?showone=Comments#Comments\n",
    "[gooex]: http://sphinxcontrib-napoleon.readthedocs.io/en/latest/example_google.html\n",
    "[npdoc]: https://github.com/numpy/numpy/blob/master/doc/HOWTO_DOCUMENT.rst.txt\n",
    "[npex]: http://sphinxcontrib-napoleon.readthedocs.io/en/latest/example_numpy.html"
   ]
  }
 ],
 "metadata": {
  "celltoolbar": "Slideshow",
  "kernelspec": {
   "display_name": "Python 3",
   "language": "python",
   "name": "python3"
  },
  "language_info": {
   "codemirror_mode": {
    "name": "ipython",
    "version": 3
   },
   "file_extension": ".py",
   "mimetype": "text/x-python",
   "name": "python",
   "nbconvert_exporter": "python",
   "pygments_lexer": "ipython3",
   "version": "3.5.2"
  }
 },
 "nbformat": 4,
 "nbformat_minor": 1
}
